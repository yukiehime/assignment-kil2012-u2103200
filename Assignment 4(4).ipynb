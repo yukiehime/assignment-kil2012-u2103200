{
 "cells": [
  {
   "cell_type": "code",
   "execution_count": 3,
   "id": "ea39e5c7",
   "metadata": {},
   "outputs": [
    {
     "name": "stdout",
     "output_type": "stream",
     "text": [
      "Checkout Processed by: Sarah Connor\n",
      "Books Checked Out: 1984, Brave New World\n",
      "Checkout duration: 3 weeks\n",
      "Additional Checkout Details:\n",
      "- Late Fee: $0.25\n",
      "- Renewals Allowed: 2\n",
      "- Special Conditions For Checkout: Handle with care\n"
     ]
    }
   ],
   "source": [
    "def checkout_books(librarian_name, *book_titles, duration='3 weeks', **kwargs):\n",
    "    # Display information about a librarian\n",
    "    print(f\"Checkout Processed by: {librarian_name}\")\n",
    "    \n",
    "    # Display information about checked-out books\n",
    "    print(\"Books Checked Out:\", ', '.join(book_titles))\n",
    "    \n",
    "    # Display checkout duration\n",
    "    print(f\"Checkout duration: {duration}\")\n",
    "\n",
    "    # Display additional details\n",
    "    print(\"Additional Checkout Details:\")\n",
    "    for detail, value in kwargs.items():\n",
    "        print(\"- \" + detail.replace('_', ' ').title() + \": \" + str(value))\n",
    "\n",
    "# Call the function with appropriate arguments\n",
    "checkout_books('Sarah Connor', '1984', 'Brave New World', duration='3 weeks', late_fee='$0.25', renewals_allowed='2', special_conditions_for_checkout='Handle with care')"
   ]
  },
  {
   "cell_type": "code",
   "execution_count": null,
   "id": "347a371a",
   "metadata": {},
   "outputs": [],
   "source": []
  }
 ],
 "metadata": {
  "kernelspec": {
   "display_name": "Python 3 (ipykernel)",
   "language": "python",
   "name": "python3"
  },
  "language_info": {
   "codemirror_mode": {
    "name": "ipython",
    "version": 3
   },
   "file_extension": ".py",
   "mimetype": "text/x-python",
   "name": "python",
   "nbconvert_exporter": "python",
   "pygments_lexer": "ipython3",
   "version": "3.11.5"
  }
 },
 "nbformat": 4,
 "nbformat_minor": 5
}
