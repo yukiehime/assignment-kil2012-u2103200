{
 "cells": [
  {
   "cell_type": "code",
   "execution_count": 3,
   "id": "aa3a8628",
   "metadata": {},
   "outputs": [
    {
     "name": "stdout",
     "output_type": "stream",
     "text": [
      "Checkout Processed by: Sarah Connor\n"
     ]
    },
    {
     "ename": "NameError",
     "evalue": "name 'book_titles' is not defined",
     "output_type": "error",
     "traceback": [
      "\u001b[1;31m---------------------------------------------------------------------------\u001b[0m",
      "\u001b[1;31mNameError\u001b[0m                                 Traceback (most recent call last)",
      "Cell \u001b[1;32mIn[3], line 12\u001b[0m\n\u001b[0;32m     10\u001b[0m     \u001b[38;5;28mprint\u001b[39m(\u001b[38;5;124mf\u001b[39m\u001b[38;5;124m\"\u001b[39m\u001b[38;5;124mBooks Checked Out:\u001b[39m\u001b[38;5;124m\"\u001b[39m, book1_name \u001b[38;5;241m+\u001b[39m book2_name)\n\u001b[0;32m     11\u001b[0m \u001b[38;5;66;03m# Positional arguments:\u001b[39;00m\n\u001b[1;32m---> 12\u001b[0m book_titles(book1_name\u001b[38;5;241m=\u001b[39m\u001b[38;5;124m'\u001b[39m\u001b[38;5;124m1984,\u001b[39m\u001b[38;5;124m'\u001b[39m, book2_name\u001b[38;5;241m=\u001b[39m \u001b[38;5;124m'\u001b[39m\u001b[38;5;124m Brave New World\u001b[39m\u001b[38;5;124m'\u001b[39m)\n\u001b[0;32m     14\u001b[0m \u001b[38;5;28mprint\u001b[39m(\u001b[38;5;124mf\u001b[39m\u001b[38;5;124m\"\u001b[39m\u001b[38;5;124mCheckout duration: 3 weeks\u001b[39m\u001b[38;5;124m\"\u001b[39m)\n\u001b[0;32m     16\u001b[0m \u001b[38;5;28;01mdef\u001b[39;00m \u001b[38;5;21mkwargs\u001b[39m(\u001b[38;5;241m*\u001b[39m\u001b[38;5;241m*\u001b[39mdetails):\n\u001b[0;32m     17\u001b[0m      \u001b[38;5;66;03m# Additional details.\u001b[39;00m\n",
      "\u001b[1;31mNameError\u001b[0m: name 'book_titles' is not defined"
     ]
    }
   ],
   "source": [
    "def checkout_books(librarian_name, *book_titles, duration='3 weeks', **kwargs):\n",
    "   \n",
    "    # Display information about a librarian\n",
    "    print(f\"Checkout Processed by:\" + librarian_name)\n",
    "# Positional arguments:\n",
    "checkout_books(' Sarah Connor')\n",
    "\n",
    "def book_information(book1_name, book2_name):\n",
    "    # Display information about a book\n",
    "    print(f\"Books Checked Out:\", book1_name + book2_name)\n",
    "# Positional arguments:\n",
    "book_titles(book1_name='1984,', book2_name= ' Brave New World')\n",
    "\n",
    "print(f\"Checkout duration: 3 weeks\")\n",
    "\n",
    "def kwargs(**details):\n",
    "     # Additional details.\n",
    "    print(\"Additional Checkout Details:\")\n",
    "    for detail, value in details.items():\n",
    "        print(\"- \" + detail.replace('_', ' ').title() + \": \" + str(value))\n",
    "        \n",
    "kwargs(Late_Fee='$0.25', Renewals_Allowed='2', Special_Conditions_for_Checkout='Handle with care')"
   ]
  },
  {
   "cell_type": "code",
   "execution_count": null,
   "id": "30f691be",
   "metadata": {},
   "outputs": [],
   "source": []
  }
 ],
 "metadata": {
  "kernelspec": {
   "display_name": "Python 3 (ipykernel)",
   "language": "python",
   "name": "python3"
  },
  "language_info": {
   "codemirror_mode": {
    "name": "ipython",
    "version": 3
   },
   "file_extension": ".py",
   "mimetype": "text/x-python",
   "name": "python",
   "nbconvert_exporter": "python",
   "pygments_lexer": "ipython3",
   "version": "3.11.5"
  }
 },
 "nbformat": 4,
 "nbformat_minor": 5
}
