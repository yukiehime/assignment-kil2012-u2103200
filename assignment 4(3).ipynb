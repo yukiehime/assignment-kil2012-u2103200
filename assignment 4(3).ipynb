{
 "cells": [
  {
   "cell_type": "code",
   "execution_count": 2,
   "id": "ece278dd",
   "metadata": {},
   "outputs": [
    {
     "name": "stdout",
     "output_type": "stream",
     "text": [
      "Checkout Processed by: Sarah Connor\n",
      "Books Checked Out: 1984, Brave New World\n",
      "Checkout duration: 3 weeks\n",
      "Additional Checkout Details:\n",
      "- Late Fee: $0.25\n",
      "- Renewals Allowed: 2\n",
      "- Special Conditions For Checkout: Handle with care\n"
     ]
    }
   ],
   "source": [
    "def checkout_books(librarian_name, *book_titles, duration='3 weeks', **kwargs):\n",
    "   \n",
    "    # Display information about a librarian\n",
    "    print(f\"Checkout Processed by:\" + librarian_name)\n",
    "# Positional arguments:\n",
    "checkout_books(' Sarah Connor')\n",
    "\n",
    "def book_information(book1_name, book2_name):\n",
    "    # Display information about a book\n",
    "    print(f\"Books Checked Out:\", book1_name + book2_name)\n",
    "# Positional arguments:\n",
    "book_information('1984,', ' Brave New World')\n",
    "\n",
    "print(f\"Checkout duration: 3 weeks\")\n",
    "\n",
    "def kwargs(**details):\n",
    "     # Additional details.\n",
    "    print(\"Additional Checkout Details:\")\n",
    "    for detail, value in details.items():\n",
    "        print(\"- \" + detail.replace('_', ' ').title() + \": \" + str(value))\n",
    "        \n",
    "kwargs(Late_Fee='$0.25', Renewals_Allowed='2', Special_Conditions_for_Checkout='Handle with care')"
   ]
  },
  {
   "cell_type": "code",
   "execution_count": null,
   "id": "070e5915",
   "metadata": {},
   "outputs": [],
   "source": []
  }
 ],
 "metadata": {
  "kernelspec": {
   "display_name": "Python 3 (ipykernel)",
   "language": "python",
   "name": "python3"
  },
  "language_info": {
   "codemirror_mode": {
    "name": "ipython",
    "version": 3
   },
   "file_extension": ".py",
   "mimetype": "text/x-python",
   "name": "python",
   "nbconvert_exporter": "python",
   "pygments_lexer": "ipython3",
   "version": "3.11.5"
  }
 },
 "nbformat": 4,
 "nbformat_minor": 5
}
