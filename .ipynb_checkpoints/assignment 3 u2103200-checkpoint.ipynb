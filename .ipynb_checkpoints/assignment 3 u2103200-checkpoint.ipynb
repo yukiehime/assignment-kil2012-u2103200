{
 "cells": [
  {
   "cell_type": "code",
   "execution_count": 1,
   "id": "d3cb5b46",
   "metadata": {},
   "outputs": [
    {
     "name": "stdout",
     "output_type": "stream",
     "text": [
      "Enter the first number: 3\n",
      "Enter the second number: 5\n",
      "Enter an operation (+, -, *, /):+\n",
      "The result is: 8.0\n"
     ]
    }
   ],
   "source": [
    "def simple_calculator():\n",
    "    while True:\n",
    "        try:\n",
    "            # Ask the user for two numbers and an operation\n",
    "            num1 = float(input(\"Enter the first number: \"))\n",
    "            num2 = float(input(\"Enter the second number: \"))\n",
    "            operation = input(\"Enter an operation (+, -, *, /):\")\n",
    "        \n",
    "            # Perform calculation based on the operation\n",
    "            if operation == \"+\":\n",
    "                result = num1 + num2\n",
    "            elif operation == \"-\":\n",
    "                result = num1 - num2\n",
    "            elif operation == \"*\":\n",
    "                result = num1 * num2\n",
    "            elif operation == \"/\":\n",
    "                result = num1 / num2\n",
    "            else:\n",
    "                print(\"Invalid operation. Please choose +,-,*,/.\")\n",
    "                continue\n",
    "            \n",
    "            # Display the result\n",
    "            print (f\"The result is: {result}\")\n",
    "            break\n",
    "\n",
    "        except ValueError:\n",
    "            print (\"Invalid input. Please enter a number.\")\n",
    "        except ZeroDivisionError:\n",
    "            print(\"Error: Cannot divide by zero.\")\n",
    "        except Exception as e:\n",
    "            print(f\"An unexpected error occured: {e}\")\n",
    "\n",
    "# Run the calculator\n",
    "simple_calculator()"
   ]
  },
  {
   "cell_type": "code",
   "execution_count": null,
   "id": "180e71c0",
   "metadata": {},
   "outputs": [],
   "source": []
  },
  {
   "cell_type": "code",
   "execution_count": null,
   "id": "e8a5fbf1",
   "metadata": {},
   "outputs": [],
   "source": []
  }
 ],
 "metadata": {
  "kernelspec": {
   "display_name": "Python 3 (ipykernel)",
   "language": "python",
   "name": "python3"
  },
  "language_info": {
   "codemirror_mode": {
    "name": "ipython",
    "version": 3
   },
   "file_extension": ".py",
   "mimetype": "text/x-python",
   "name": "python",
   "nbconvert_exporter": "python",
   "pygments_lexer": "ipython3",
   "version": "3.11.5"
  }
 },
 "nbformat": 4,
 "nbformat_minor": 5
}
