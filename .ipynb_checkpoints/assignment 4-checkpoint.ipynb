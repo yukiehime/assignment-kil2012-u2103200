{
 "cells": [
  {
   "cell_type": "code",
   "execution_count": 13,
   "id": "369dad74",
   "metadata": {},
   "outputs": [
    {
     "name": "stdout",
     "output_type": "stream",
     "text": [
      "Checkout Processed by:Sarah Connor\n",
      "Books Checked Out: 1984, Brave New World\n"
     ]
    }
   ],
   "source": [
    "def librarian_information(librarian_name):\n",
    "    # Display information about a librarian and their class\n",
    "    print(\"Checkout Processed by:\" + librarian_name)\n",
    "# Positional arguments:\n",
    "librarian_information('Sarah Connor')\n",
    "\n",
    "def book_information(book1_name, book2_name):\n",
    "    # Display information about a book\n",
    "    print(\"Books Checked Out:\", book1_name + book2_name)\n",
    "# Positional arguments:\n",
    "book_information('1984,', ' Brave New World')\n",
    "\n",
    "def checkout_information(checkout_duration='3 weeks'):\n",
    "    # Standard checkout duration is a default value\n",
    "    print(\"Checkout duration:\"=='3 weeks')"
   ]
  },
  {
   "cell_type": "code",
   "execution_count": null,
   "id": "f1eb0791",
   "metadata": {},
   "outputs": [],
   "source": []
  }
 ],
 "metadata": {
  "kernelspec": {
   "display_name": "Python 3 (ipykernel)",
   "language": "python",
   "name": "python3"
  },
  "language_info": {
   "codemirror_mode": {
    "name": "ipython",
    "version": 3
   },
   "file_extension": ".py",
   "mimetype": "text/x-python",
   "name": "python",
   "nbconvert_exporter": "python",
   "pygments_lexer": "ipython3",
   "version": "3.11.5"
  }
 },
 "nbformat": 4,
 "nbformat_minor": 5
}
