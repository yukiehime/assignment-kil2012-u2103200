{
 "cells": [
  {
   "cell_type": "code",
   "execution_count": 2,
   "id": "282f8100",
   "metadata": {},
   "outputs": [
    {
     "name": "stdout",
     "output_type": "stream",
     "text": [
      "Checkout Processed by:Sarah Connor\n"
     ]
    }
   ],
   "source": [
    "def librarian_information(librarian_name):\n",
    "    # Display information about a student and their class\n",
    "    print(\"Checkout Processed by:\" + librarian_name)\n",
    "# Positional arguments:\n",
    "librarian_information('Sarah Connor')"
   ]
  },
  {
   "cell_type": "code",
   "execution_count": null,
   "id": "08eca9d1",
   "metadata": {},
   "outputs": [],
   "source": []
  }
 ],
 "metadata": {
  "kernelspec": {
   "display_name": "Python 3 (ipykernel)",
   "language": "python",
   "name": "python3"
  },
  "language_info": {
   "codemirror_mode": {
    "name": "ipython",
    "version": 3
   },
   "file_extension": ".py",
   "mimetype": "text/x-python",
   "name": "python",
   "nbconvert_exporter": "python",
   "pygments_lexer": "ipython3",
   "version": "3.11.5"
  }
 },
 "nbformat": 4,
 "nbformat_minor": 5
}
